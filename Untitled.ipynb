{
 "cells": [
  {
   "cell_type": "markdown",
   "id": "f927be99",
   "metadata": {},
   "source": [
    "                         "
   ]
  },
  {
   "cell_type": "code",
   "execution_count": 3,
   "id": "9653f606",
   "metadata": {},
   "outputs": [
    {
     "name": "stderr",
     "output_type": "stream",
     "text": [
      "/tmp/ipykernel_52/684758851.py:2: DtypeWarning: Columns (408,1001,1002,1006,1007,1008,1080,1113,1115,1116,1117,1118,1119,1120,1121,1124,1125,1126,1127,1128,1213,1214,1215,1216,1217,1218,1342,1343,1344,1345,1346,1347,1348,1349,1390,1391,1393,1463,1549,1552,1555,1558,1561) have mixed types. Specify dtype option on import or set low_memory=False.\n",
      "  df = pd.read_csv(\"https://raw.githubusercontent.com/pointOfive/stat130chat130/refs/heads/main/CP/CSCS_data_anon.csv\")\n"
     ]
    }
   ],
   "source": [
    "import pandas as pd\n",
    "df = pd.read_csv(\"https://raw.githubusercontent.com/pointOfive/stat130chat130/refs/heads/main/CP/CSCS_data_anon.csv\")"
   ]
  },
  {
   "cell_type": "code",
   "execution_count": 5,
   "id": "e240439a",
   "metadata": {},
   "outputs": [
    {
     "data": {
      "text/plain": [
       "array([nan, 'Very dissatisfied', 'Neither satisfied nor dissatisfied',\n",
       "       'Satisfied', 'Very satisfied', 'Somewhat satisfied',\n",
       "       'Somewhat dissatisfied', 'Dissatisfied'], dtype=object)"
      ]
     },
     "execution_count": 5,
     "metadata": {},
     "output_type": "execute_result"
    }
   ],
   "source": [
    "df[\"WELLNESS_satisfied_single\"].unique()"
   ]
  },
  {
   "cell_type": "code",
   "execution_count": 6,
   "id": "7682734a",
   "metadata": {},
   "outputs": [
    {
     "data": {
      "text/plain": [
       "array(['Non-binary', 'Woman', 'Man', nan, 'Presented but no response',\n",
       "       'Non-binary (including those identifying as Two Spirit, agender, genderfluid, genderqueer, or with another term)'],\n",
       "      dtype=object)"
      ]
     },
     "execution_count": 6,
     "metadata": {},
     "output_type": "execute_result"
    }
   ],
   "source": [
    "df[\"DEMO_gender\"].unique()"
   ]
  },
  {
   "cell_type": "code",
   "execution_count": 7,
   "id": "42fdd60f",
   "metadata": {},
   "outputs": [
    {
     "data": {
      "text/plain": [
       "array(['Yes, three or more doses', 'Yes, one dose', 'Yes, two doses',\n",
       "       'No', nan, 'Yes, four doses', 'Yes, five or more doses',\n",
       "       'Presented but no response'], dtype=object)"
      ]
     },
     "execution_count": 7,
     "metadata": {},
     "output_type": "execute_result"
    }
   ],
   "source": [
    "df[\"COVID_vaccinated\"].unique()"
   ]
  },
  {
   "cell_type": "markdown",
   "id": "8b14210e",
   "metadata": {},
   "source": [
    "proposal 1:\n",
    "\n",
    "Research Question\n",
    "Does recieving covid19 vaccine influence the satisfaction of being single\n",
    "\n",
    "This question seeks to understand if there is an association between the decision and times to receive the COVID-19 vaccine and levels of life satisfaction of being single. Given the global impact of COVID-19 and its potential effects on social and personal well-being, this research aims to uncover whether vaccination correlates with improved subjective well-being in individuals who are not in relationships.\n",
    "\n",
    "Variables\n",
    "COVID-19 Vaccine Status\n",
    "\n",
    "Type: categorical (Yes, three or more doses', 'Yes, one dose', 'Yes, two doses',\n",
    "       'No', nan, 'Yes, four doses', 'Yes, five or more doses',\n",
    "       'Presented but no response')\n",
    "Description: Indicates whether an individual has received the COVID-19 vaccine and the times if . This variable is essential to determine the exposure and potential mental or social health benefits associated with vaccination.\n",
    "Visualization: A bar chart will be useful here to show the distribution of vaccinated versus unvaccinated participants. This will provide a quick visual assessment of the sample distribution across this variable.\n",
    "Life Satisfaction When Single\n",
    "\n",
    "Type: Categorical ( 'Very dissatisfied', 'Neither satisfied nor dissatisfied','Satisfied', 'Very satisfied', 'Somewhat satisfied',\n",
    "             'Somewhat dissatisfied', 'Dissatisfied)\n",
    "Description: This variable measures an individual’s satisfaction level with life as a single person. It is the primary outcome of interest and will help us determine if there is a potential positive association between vaccination status and life satisfaction.\n",
    "Visualization: A histogram or bar chart can display the life satisfaction scores, enabling us to identify the central tendency and any skewness in satisfaction levels. Additionally, a box plot could show the distribution of life satisfaction by vaccination status, helping visualize differences between groups.\n",
    "Analysis Plan\n",
    "The analysis will focus on comparing life satisfaction scores between vaccinated and unvaccinated individuals, specifically among single people. The method chosen will depend on the exact measurement level of life satisfaction:\n",
    "\n",
    "If life satisfaction is ordinal (e.g., a scale of 1 to 5), a Mann-Whitney U test could be suitable for comparing the median satisfaction levels between the two groups. This non-parametric test would be appropriate if the distribution of life satisfaction does not meet normality assumptions.\n",
    "\n",
    "If life satisfaction is categorical (e.g., satisfied/dissatisfied), a Chi-square test of independence could determine if there is a significant association between vaccine status and satisfaction levels.\n",
    "\n"
   ]
  },
  {
   "cell_type": "markdown",
   "id": "2d30711c",
   "metadata": {},
   "source": [
    "proposal 2\n",
    "\n",
    "Proposal: Exploring the Relationship Between Sex and Satisfaction When Single\n",
    "Research Question\n",
    "Is there a significant association between sex and satisfaction with life when single? This question aims to understand whether self-reported satisfaction when single varies between males and females. Exploring this association can offer insights into how relationship status satisfaction may differ by sex, potentially shedding light on broader social or psychological factors.\n",
    "\n",
    "Variables\n",
    "Sex \n",
    "\n",
    "type: Categorical('Non-binary', 'Woman', 'Man', nan, 'Presented but no response',\n",
    "       'Non-binary)\n",
    "description: This variable represents whether a respondent identifies as male or female. Understanding how sex relates to satisfaction while single may reveal insights into differences in attitudes toward independence or relationship expectations.\n",
    "\n",
    "Visualization: A bar chart can be used to show the count of respondents by sex who report varying levels of satisfaction. This visualization allows for easy comparison between groups and can highlight any observable trends by sex.\n",
    "\n",
    "Life Satisfaction When Single\n",
    "\n",
    "Type: Categorical ( 'Very dissatisfied', 'Neither satisfied nor dissatisfied','Satisfied', 'Very satisfied', 'Somewhat satisfied',\n",
    "             'Somewhat dissatisfied', 'Dissatisfied)\n",
    "Description: This variable measures respondents' satisfaction levels while single, likely on a scale (e.g., very dissatisfied to very satisfied). Examining satisfaction levels provides a direct measure of well-being related to singlehood.\n",
    "\n",
    "Visualization: A grouped bar chart (grouped by satisfaction levels within each sex category) or a box plot can effectively illustrate the distribution of satisfaction ratings. A box plot, in particular, could reveal central tendencies and variances in satisfaction levels between sexes.\n",
    "Analysis\n",
    "To investigate the association between sex and satisfaction when single, I plan to conduct a chi-square test of independence. This test will evaluate whether there is a statistically significant relationship between the two categorical variables: sex and satisfaction level.\n",
    "\n",
    "Assumptions: The chi-square test assumes that each observation is independent, and expected frequencies for each cell should generally be 5 or more to ensure validity. This assumption will be checked during the analysis.\n",
    "Alternative Approach: If satisfaction is on an ordinal scale and we need to analyze mean differences, a non-parametric test, such as the Mann-Whitney U test, could be used to compare satisfaction distributions between sexes.\n",
    "Hypothesis and Expected Results\n",
    "Null Hypothesis (H₀): There is no association between sex and satisfaction when single.\n",
    "Alternative Hypothesis (H₁): There is an association between sex and satisfaction when single.\n",
    "Based on sociological research suggesting that individuals may experience singlehood differently across genders, I hypothesize that satisfaction levels will differ by sex. For example, females may report higher satisfaction due to societal shifts toward independence, while males may report lower satisfaction due to traditional social expectations. If the results confirm this hypothesis, it would suggest that initiatives to support well-being while single might benefit from being tailored by sex.\n",
    "\n"
   ]
  },
  {
   "cell_type": "markdown",
   "id": "86484441",
   "metadata": {},
   "source": [
    "proposal 3\n",
    "\n",
    "Research Question\n",
    "Is there an association between sex and the likelihood of receiving a COVID-19 vaccine? This question aims to explore whether the rate of COVID-19 vaccination differs between males and females, potentially revealing gender-based patterns in vaccine uptake.\n",
    "\n",
    "Understanding such an association can be valuable for public health agencies to tailor vaccination campaigns and address potential disparities.\n",
    "\n",
    "Variables and Exploration Plan\n",
    "Sex: This variable indicates the gender of the individual (male or female). I chose this variable because it allows for the analysis of demographic factors in vaccination behavior, which may reflect underlying attitudes, access, or societal influences.\n",
    "\n",
    "COVID-19 Vaccine Status: This binary variable indicates whether an individual has received the COVID-19 vaccine. It's central to the analysis because it directly addresses the outcome we are examining—vaccine uptake.\n",
    "\n",
    "Visualization Strategy:\n",
    "\n",
    "Bar Chart: A bar chart will be useful for comparing vaccination rates between males and females. This type of chart is suitable because it provides a clear comparison between categorical groups, making it easy to observe any difference in vaccination uptake.\n",
    "Stacked Bar Chart: To visualize the proportion of vaccinated and unvaccinated individuals within each gender category, a stacked bar chart can be used. This chart style effectively conveys proportions within categories, highlighting the overall trend across both genders.\n",
    "Summary Statistics:\n",
    "\n",
    "Counts and Proportions: Calculating the count and proportion of vaccinated individuals within each gender will summarize the main trends. These statistics will help quantify the relationship between sex and vaccine uptake.\n",
    "Planned Analysis\n",
    "To test for an association between sex and vaccination status, I will use a Chi-square test of independence. This method is appropriate for determining whether there is a statistically significant association between two categorical variables (in this case, sex and vaccination status).\n",
    "\n",
    "Procedure: I will set up a contingency table for the two variables and calculate the Chi-square statistic along with the p-value. If the p-value is below a chosen significance level (e.g., 0.05), we can reject the null hypothesis, suggesting that an association exists between sex and vaccination status.\n",
    "Assumptions:\n",
    "The sample size should be large enough for the Chi-square test to be valid, with expected counts greater than five in each cell.\n",
    "Independence of observations is assumed (each individual's sex and vaccination status are recorded independently).\n",
    "Hypothesis and Expected Results\n",
    "Hypothesis:\n",
    "\n",
    "Null Hypothesis (H0): There is no association between sex and COVID-19 vaccination status.\n",
    "Alternative Hypothesis (H1): There is an association between sex and COVID-19 vaccination status.\n",
    "Based on general vaccination trends, I hypothesize that there may be a higher vaccination rate among females compared to males, as past studies on health behavior have suggested higher health engagement among women.\n",
    "\n",
    "If the analysis reveals a statistically significant association, it would suggest that sex may play a role in vaccination behavior, which could be useful for designing targeted public health strategies. However, if no significant association is found, this would imply that vaccination rates are similar across sexes, indicating a uniform response to vaccination campaigns regardless of gender."
   ]
  }
 ],
 "metadata": {
  "kernelspec": {
   "display_name": "Python 3 (ipykernel)",
   "language": "python",
   "name": "python3"
  },
  "language_info": {
   "codemirror_mode": {
    "name": "ipython",
    "version": 3
   },
   "file_extension": ".py",
   "mimetype": "text/x-python",
   "name": "python",
   "nbconvert_exporter": "python",
   "pygments_lexer": "ipython3",
   "version": "3.11.6"
  }
 },
 "nbformat": 4,
 "nbformat_minor": 5
}
